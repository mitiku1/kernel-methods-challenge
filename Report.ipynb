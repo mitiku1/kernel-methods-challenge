{
  "nbformat": 4,
  "nbformat_minor": 0,
  "metadata": {
    "colab": {
      "name": "Untitled23.ipynb",
      "provenance": [],
      "collapsed_sections": []
    },
    "kernelspec": {
      "name": "python3",
      "display_name": "Python 3"
    }
  },
  "cells": [
    {
      "cell_type": "markdown",
      "metadata": {
        "id": "fU0csip04OL-",
        "colab_type": "text"
      },
      "source": [
        "# KerKernel Methods AMMI 2020 - Kaggle Challenge\n"
      ]
    },
    {
      "cell_type": "markdown",
      "metadata": {
        "id": "c6ejYY5H4RoG",
        "colab_type": "text"
      },
      "source": [
        "### Team:  csvm\n",
        "### Name:  Mitiku Yohannes\n",
        "### Email: mfuge@aimsammi.org"
      ]
    },
    {
      "cell_type": "markdown",
      "metadata": {
        "id": "TuMuN1fx4c-5",
        "colab_type": "text"
      },
      "source": [
        "\n",
        "\n",
        "#Introduction\n",
        "The purpose of the challenge was to implement kernels methods from scratch using only general purpose libraries. To solve this problem I’ve implemented a mismatch string kernel[1]. Beside Implementing the mismatch string kernel, I've explored ways to combine different kernels. The rest of the report explains the method and experimental results. \n"
      ]
    },
    {
      "cell_type": "markdown",
      "metadata": {
        "id": "AD8QFwx24ghS",
        "colab_type": "text"
      },
      "source": [
        "## Method"
      ]
    },
    {
      "cell_type": "markdown",
      "metadata": {
        "id": "4vgHfeb94pIm",
        "colab_type": "text"
      },
      "source": [
        "Since compuational cost of the computing mismatch kernel is exponential interms of both string length and number of mismatch allowed, I had to save intermediate results. Here I will explain the steps I took to to create the string mismatch kernels."
      ]
    },
    {
      "cell_type": "markdown",
      "metadata": {
        "id": "CAMTR4Nl4pC3",
        "colab_type": "text"
      },
      "source": [
        "### Sequence preprocessing\n",
        "Each sequence in inputs are representd by 101 length characters each of them from one of [A, C, G, T]. Preprocessing the sequence requires first splitting the sequence into kmers and then encoding the kmers with integer index.\n",
        "\n",
        "The following script can  used to split the sequence into kmers, then encode the kmer with integer."
      ]
    },
    {
      "cell_type": "code",
      "metadata": {
        "id": "cc2QxBXn9fkG",
        "colab_type": "code",
        "colab": {}
      },
      "source": [
        "!python sequence2kmers.py -k 3"
      ],
      "execution_count": 0,
      "outputs": []
    },
    {
      "cell_type": "markdown",
      "metadata": {
        "id": "_ZuoxG4A4pBY",
        "colab_type": "text"
      },
      "source": [
        "This script will create csv file that contains sequences of kmers for each sequences of the original sequences in both `train` and `test` sets. Since I'm using multiple kernel this script is run for k = 3, 4, 5, 6 and 7"
      ]
    },
    {
      "cell_type": "markdown",
      "metadata": {
        "id": "6N6ZOOoW4o-t",
        "colab_type": "text"
      },
      "source": [
        "Once each sequences is converted to kmers, the next step is to create neighboring graph for the kmers. In the neighboring graph, a kmer $n_1$ is neighbor to kmer $n_2$ if the hamming distance between their code is less than or equal to m(Number of mismatches allowed). To enforce this The first step I followed was to save the distance between each kmers for a given $k$ and $m$. Then the following datascture class was used to retrieve the neighbor for a given kmer in constant time.\n"
      ]
    },
    {
      "cell_type": "code",
      "metadata": {
        "id": "eMBRn0_kDiDu",
        "colab_type": "code",
        "colab": {}
      },
      "source": [
        "class KM_MismatchDS:\n",
        "    def __init__(self, path):\n",
        "        self.path = path\n",
        "        self.data = self.build()\n",
        "    def build(self):\n",
        "        data = {}\n",
        "        with open(self.path, \"r\") as data_file:\n",
        "            for line in data_file:\n",
        "                kmers = list(map(int, line.split(\",\")))\n",
        "                root = kmers[0]\n",
        "                children = kmers[1:]\n",
        "                data[root] = set(children)\n",
        "        return data\n",
        "    def __getitem__(self, index):\n",
        "        return self.data[index]\n",
        "    def __len__(self):\n",
        "        return len(self.data)"
      ],
      "execution_count": 0,
      "outputs": []
    },
    {
      "cell_type": "markdown",
      "metadata": {
        "id": "O091QQ5C4o8A",
        "colab_type": "text"
      },
      "source": [
        "The following two scripts are used to generate distances between kmers and the neighbors for each kmer given."
      ]
    },
    {
      "cell_type": "code",
      "metadata": {
        "id": "X_vtc5-JD16-",
        "colab_type": "code",
        "colab": {}
      },
      "source": [
        "!python build_hamming_dist.py -k 4\n",
        "!python build_mismatch_kmers.py -k 4 -m 1"
      ],
      "execution_count": 0,
      "outputs": []
    },
    {
      "cell_type": "markdown",
      "metadata": {
        "id": "dyl9Vwff4o5c",
        "colab_type": "text"
      },
      "source": [
        "Now we have neighbors for each kmer(neighbor of kmer is a kmer whose code is diffrent by at most m characters), the next step is to create the features for each sequence. The following script was used to create features for each sequence."
      ]
    },
    {
      "cell_type": "code",
      "metadata": {
        "id": "pPxAguAZE6Em",
        "colab_type": "code",
        "colab": {}
      },
      "source": [
        "!python build_single_k_feature.py -k 6 -m 2"
      ],
      "execution_count": 0,
      "outputs": []
    },
    {
      "cell_type": "markdown",
      "metadata": {
        "id": "oCcMMwqf8iLJ",
        "colab_type": "text"
      },
      "source": [
        "The last step is to use this features to classify the sequences. All kernels are combined in convex combination. Each kernel is given diffrent weights. The following script(Main script is used to train svm)."
      ]
    },
    {
      "cell_type": "code",
      "metadata": {
        "id": "5YpXOXupBDhv",
        "colab_type": "code",
        "colab": {}
      },
      "source": [
        "!python MAIN_SCRIPT.py"
      ],
      "execution_count": 0,
      "outputs": []
    },
    {
      "cell_type": "markdown",
      "metadata": {
        "id": "jItnx_Gf4o3E",
        "colab_type": "text"
      },
      "source": [
        "\n",
        "\n",
        "## References \n",
        "1. Mismatch String Kernels for SVM Protein Classiﬁcation. (n.d.). Retrieved from http://cseweb.ucsd.edu/~eeskin/papers/mismatch-nips02.pdf\n",
        "\n"
      ]
    },
    {
      "cell_type": "code",
      "metadata": {
        "id": "XgygKdqj4nxf",
        "colab_type": "code",
        "colab": {}
      },
      "source": [
        ""
      ],
      "execution_count": 0,
      "outputs": []
    }
  ]
}